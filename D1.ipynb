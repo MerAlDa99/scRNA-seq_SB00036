{
 "cells": [
  {
   "cell_type": "markdown",
   "metadata": {},
   "source": [
    "# Day 1: Introduction & Quality Control (Total 4 hours)\n",
    "\n",
    "## (30 min) Welcome & Course Overview\n",
    "\n",
    "Introduction to the course structure, goals, and evaluation criteria.\n",
    "\n",
    "Speaker: Joan Camuñas-Soler.\n",
    "\n",
    "***\n",
    "\n",
    "## (1h) Lecture: Introduction to Single-Cell Genomics\n",
    "\n",
    "Topics:\n",
    "\n",
    "Applications in precision medicine\n",
    "\n",
    "Experimental workflows\n",
    "\n",
    "Overview of common datasets\n",
    "\n",
    "Challenges in single-cell analysis\n",
    "\n",
    "---"
   ]
  },
  {
   "cell_type": "markdown",
   "metadata": {},
   "source": [
    "# Workshop 1: Quality Control (2.5 h)\n",
    "\n",
    "## 1. Data Import and Initial Exploration"
   ]
  },
  {
   "cell_type": "code",
   "execution_count": null,
   "metadata": {},
   "outputs": [],
   "source": [
    "import scanpy as sc\n",
    "import numpy as np\n",
    "\n",
    "# Load the dataset\n",
    "adata = sc.read_h5ad('data.h5ad')\n",
    "\n",
    "# Overview of the data\n",
    "print(adata)\n",
    "adata.var_names_make_unique()\n",
    "adata.obs_names_make_unique()\n",
    "\n",
    "# Summary statistics\n",
    "adata.obs['n_counts'] = adata.X.sum(axis=1).A1\n",
    "adata.obs['n_genes_by_counts'] = (adata.X > 0).sum(axis=1).A1\n",
    "sc.pp.calculate_qc_metrics(adata, inplace=True)"
   ]
  },
  {
   "cell_type": "markdown",
   "metadata": {},
   "source": [
    "### Discussion:\n",
    "\n",
    "What do the summary statistics tell us about the data?\n",
    "\n",
    "Are there cells with extremely high or low counts?\n",
    "\n",
    "## 2. Identifying and Annotating Mitochondrial, Ribosomal, and Hemoglobin Genes"
   ]
  },
  {
   "cell_type": "code",
   "execution_count": null,
   "metadata": {},
   "outputs": [],
   "source": [
    "adata.var['mt'] = adata.var_names.str.startswith('MT-')\n",
    "adata.var['ribo'] = adata.var_names.str.startswith(('RPS', 'RPL'))\n",
    "adata.var['hb'] = adata.var_names.str.contains('^HB[^(P|E|S)]')\n",
    "\n",
    "# Calculate the percentage of mitochondrial counts\n",
    "adata.obs['pct_counts_mt'] = np.sum(\n",
    "    adata[:, adata.var['mt']].X, axis=1).A1 / np.sum(adata.X, axis=1).A1 * 100\n",
    "adata.obs['pct_counts_ribo'] = np.sum(\n",
    "    adata[:, adata.var['ribo']].X, axis=1).A1 / np.sum(adata.X, axis=1).A1 * 100\n",
    "adata.obs['pct_counts_hb'] = np.sum(\n",
    "    adata[:, adata.var['hb']].X, axis=1).A1 / np.sum(adata.X, axis=1).A1 * 100"
   ]
  },
  {
   "cell_type": "markdown",
   "metadata": {},
   "source": [
    "### Discussion:\n",
    "\n",
    "What is the expected proportion of mitochondrial and ribosomal content in different cell types?\n",
    "\n",
    "## 3. Visualization of QC Metrics"
   ]
  },
  {
   "cell_type": "code",
   "execution_count": null,
   "metadata": {},
   "outputs": [],
   "source": [
    "sc.pl.violin(adata, ['n_genes_by_counts', 'n_counts', 'pct_counts_mt', 'pct_counts_ribo', 'pct_counts_hb'],\n",
    "             jitter=0.4, groupby='sample', rotation=45)\n",
    "sc.pl.scatter(adata, x='total_counts', y='n_genes_by_counts', color='pct_counts_mt')"
   ]
  },
  {
   "cell_type": "markdown",
   "metadata": {},
   "source": [
    "### Discussion:\n",
    "\n",
    "How are the different quality control measures correlated?\n",
    "\n",
    "Why do some cells have high mitochondrial or ribosomal content?\n",
    "\n",
    "## 4. Filtering Low-Quality Cells and Genes"
   ]
  },
  {
   "cell_type": "code",
   "execution_count": null,
   "metadata": {},
   "outputs": [],
   "source": [
    "sc.pp.filter_cells(adata, min_genes=200)\n",
    "sc.pp.filter_genes(adata, min_cells=3)\n",
    "print(f\"Remaining cells: {adata.n_obs}, Remaining genes: {adata.n_vars}\")"
   ]
  },
  {
   "cell_type": "markdown",
   "metadata": {},
   "source": [
    "### Discussion:\n",
    "\n",
    "Why are minimum thresholds for genes and cells important?\n",
    "\n",
    "How does filtering affect downstream analyses?\n",
    "\n",
    "## 5. Identifying Highly Expressed Genes"
   ]
  },
  {
   "cell_type": "code",
   "execution_count": null,
   "metadata": {},
   "outputs": [],
   "source": [
    "sc.pl.highest_expr_genes(adata, n_top=20)"
   ]
  },
  {
   "cell_type": "markdown",
   "metadata": {},
   "source": [
    "### Discussion:\n",
    "\n",
    "How can overexpressed genes like MALAT1 affect data interpretation?\n",
    "\n",
    "## 6. Filtering Based on Mitochondrial and Ribosomal Content"
   ]
  },
  {
   "cell_type": "code",
   "execution_count": null,
   "metadata": {},
   "outputs": [],
   "source": [
    "adata = adata[adata.obs['pct_counts_mt'] < 20, :]\n",
    "adata = adata[adata.obs['pct_counts_ribo'] > 5, :]\n",
    "print(f\"Remaining cells after mito/ribo filtering: {adata.n_obs}\")"
   ]
  },
  {
   "cell_type": "markdown",
   "metadata": {},
   "source": [
    "### Discussion:\n",
    "\n",
    "How to decide appropriate cutoffs for mitochondrial and ribosomal content?\n",
    "\n",
    "What are the trade-offs of aggressive filtering?\n",
    "\n",
    "## 7. Normalization of Data"
   ]
  },
  {
   "cell_type": "code",
   "execution_count": null,
   "metadata": {},
   "outputs": [],
   "source": [
    "sc.pp.normalize_total(adata, target_sum=1e4)\n",
    "sc.pp.log1p(adata)"
   ]
  },
  {
   "cell_type": "markdown",
   "metadata": {},
   "source": [
    "### Discussion:\n",
    "\n",
    "Why is normalization critical for downstream analysis?\n",
    "\n",
    "What methods exist besides log normalization?\n",
    "\n",
    "## 8. Save the Preprocessed Data"
   ]
  },
  {
   "cell_type": "code",
   "execution_count": null,
   "metadata": {},
   "outputs": [],
   "source": [
    "adata.write('processed_data.h5ad')"
   ]
  },
  {
   "cell_type": "markdown",
   "metadata": {},
   "source": [
    "***\n",
    "## Key Takeaways:\n",
    "\n",
    "Understanding the importance of quality control in single-cell data\n",
    "\n",
    "Practical steps for identifying and removing low-quality cells\n",
    "\n",
    "Interpretation of quality control metrics and visualizations\n",
    "\n",
    "### Further Reading:\n",
    "\n",
    "Amezquita et al., \"Orchestrating single-cell analysis with Bioconductor\" (2019)\n",
    "\n",
    "Luecken & Theis, \"Current best practices in single-cell RNA-seq analysis\" (2019)\n",
    "\n"
   ]
  }
 ],
 "metadata": {
  "kernelspec": {
   "display_name": "singlecell",
   "language": "python",
   "name": "python3"
  },
  "language_info": {
   "name": "python",
   "version": "3.12.7"
  }
 },
 "nbformat": 4,
 "nbformat_minor": 2
}
