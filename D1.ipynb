{
 "cells": [
  {
   "cell_type": "markdown",
   "metadata": {},
   "source": [
    "# Day 1: Introduction & Quality Control (Total 4 hours)\n",
    "\n",
    "## (30 min) Welcome & Course Overview\n",
    "\n",
    "Introduction to the course structure, goals, and evaluation criteria.\n",
    "\n",
    "Speaker: Joan Camuñas-Soler.\n",
    "\n",
    "***\n",
    "\n",
    "## (1h) Lecture: Introduction to Single-Cell Genomics\n",
    "\n",
    "Topics:\n",
    "\n",
    "Applications in precision medicine\n",
    "\n",
    "Experimental workflows\n",
    "\n",
    "Overview of common datasets\n",
    "\n",
    "Challenges in single-cell analysis\n",
    "\n",
    "---\n",
    "\n",
    "# Workshop 1: Quality Control (2.5 h)\n",
    "This workshop walks through the steps of loading, merging, and performing quality control on single-cell RNA-seq data."
   ]
  },
  {
   "cell_type": "code",
   "execution_count": 1,
   "metadata": {},
   "outputs": [],
   "source": [
    "import os\n",
    "\n",
    "# Define the data storage paths\n",
    "data_path = \"./data/\"\n",
    "if not os.path.exists(data_path):\n",
    "    os.makedirs(data_path, exist_ok=True)\n",
    "\n",
    "results_path = \"./data/results/\"\n",
    "if not os.path.exists(results_path):\n",
    "    os.makedirs(results_path, exist_ok=True)"
   ]
  },
  {
   "cell_type": "markdown",
   "metadata": {},
   "source": [
    "### Downloading Data\n",
    "\n",
    "Depending on the source, data can be downloaded manually or programmatically using tools like `urllib` or `requests`. If working with publicly available data, URLs should be specified and iterated over to fetch the required files."
   ]
  },
  {
   "cell_type": "code",
   "execution_count": 2,
   "metadata": {},
   "outputs": [],
   "source": [
    "import urllib.request\n",
    "\n",
    "file_list = [\"sample1.h5\", \"sample2.h5\", \"sample3.h5\"]\n",
    "base_url = \"<INSERT_DATA_SOURCE_URL>\"\n",
    "\n",
    "for filename in file_list:\n",
    "    file_path = os.path.join(data_path, filename)\n",
    "    if not os.path.exists(file_path):\n",
    "        urllib.request.urlretrieve(os.path.join(base_url, filename), file_path)"
   ]
  },
  {
   "cell_type": "markdown",
   "metadata": {},
   "source": [
    "## Data Preparation\n",
    "\n",
    "Once the data is in place, we can begin loading the necessary Python libraries and preprocessing the data."
   ]
  },
  {
   "cell_type": "code",
   "execution_count": 3,
   "metadata": {},
   "outputs": [],
   "source": [
    "import numpy as np\n",
    "import pandas as pd\n",
    "import scanpy as sc\n",
    "import warnings\n",
    "\n",
    "warnings.simplefilter(action='ignore', category=Warning)\n",
    "\n",
    "sc.settings.verbosity = 3\n",
    "sc.settings.set_figure_params(dpi=80)"
   ]
  },
  {
   "cell_type": "markdown",
   "metadata": {},
   "source": [
    "### Loading Data\n",
    "The datasets, typically stored in HDF5 format (`.h5`), can be read into an AnnData object using Scanpy's `read_10x_h5` function."
   ]
  },
  {
   "cell_type": "code",
   "execution_count": 4,
   "metadata": {},
   "outputs": [],
   "source": [
    "data_sample1 = sc.read_10x_h5(os.path.join(data_path, 'sample1.h5'))\n",
    "data_sample1.var_names_make_unique()"
   ]
  },
  {
   "cell_type": "markdown",
   "metadata": {},
   "source": [
    "Repeat the process for all samples, ensuring that gene names are unique to avoid conflicts when merging."
   ]
  },
  {
   "cell_type": "markdown",
   "metadata": {},
   "source": [
    "### Merging Datasets\n",
    "To facilitate downstream analysis, individual datasets are concatenated into a single AnnData object while adding relevant metadata for each sample."
   ]
  },
  {
   "cell_type": "code",
   "execution_count": 5,
   "metadata": {},
   "outputs": [],
   "source": [
    "data_sample1.obs['group'] = \"Condition_A\"\n",
    "data_sample2.obs['group'] = \"Condition_B\"\n",
    "adata = data_sample1.concatenate(data_sample2)\n",
    "\n",
    "del(data_sample1, data_sample2)"
   ]
  },
  {
   "cell_type": "markdown",
   "metadata": {},
   "source": [
    "## Calculate QC\n",
    "\n",
    "Having the data in a suitable format, we can start calculating some\n",
    "quality metrics. We can for example calculate the percentage of\n",
    "mitochondrial and ribosomal genes per cell and add to the metadata. The\n",
    "proportion of hemoglobin genes can give an indication of red blood cell\n",
    "contamination. This will be helpful to visualize them across different\n",
    "metadata parameters (i.e. datasetID and chemistry version). There are\n",
    "several ways of doing this. The QC metrics are finally added to the\n",
    "metadata table.\n",
    "\n",
    "Citing from Simple Single Cell workflows (Lun, McCarthy & Marioni,\n",
    "2017): High proportions are indicative of poor-quality cells (Islam et\n",
    "al. 2014; Ilicic et al. 2016), possibly because of loss of cytoplasmic\n",
    "RNA from perforated cells. The reasoning is that mitochondria are larger\n",
    "than individual transcript molecules and less likely to escape through\n",
    "tears in the cell membrane.\n",
    "\n",
    "First, let Scanpy calculate some general qc-stats for genes and cells\n",
    "with the function `sc.pp.calculate_qc_metrics`, similar to\n",
    "`calculateQCmetrics()` in Scater. It can also calculate proportion of\n",
    "counts for specific gene populations, so first we need to define which\n",
    "genes are mitochondrial, ribosomal and hemoglobin."
   ]
  },
  {
   "cell_type": "code",
   "execution_count": null,
   "metadata": {},
   "outputs": [],
   "source": [
    "# mitochondrial genes\n",
    "adata.var['mt'] = adata.var_names.str.startswith('MT-') \n",
    "# ribosomal genes\n",
    "adata.var['ribo'] = adata.var_names.str.startswith((\"RPS\",\"RPL\"))\n",
    "# hemoglobin genes.\n",
    "adata.var['hb'] = adata.var_names.str.contains((\"^HB[^(P|E|S)]\"))\n",
    "\n",
    "adata.var"
   ]
  },
  {
   "cell_type": "code",
   "execution_count": null,
   "metadata": {},
   "outputs": [],
   "source": [
    "sc.pp.calculate_qc_metrics(adata, qc_vars=['mt','ribo','hb'], percent_top=None, log1p=False, inplace=True)"
   ]
  },
  {
   "cell_type": "markdown",
   "metadata": {},
   "source": [
    "Now you can see that we have additional data in the metadata slot.\n",
    "\n",
    "Another opition to using the `calculate_qc_metrics` function is to\n",
    "calculate the values on your own and add to a metadata slot. An example\n",
    "for mito genes can be found below:"
   ]
  },
  {
   "cell_type": "code",
   "execution_count": null,
   "metadata": {},
   "outputs": [],
   "source": [
    "mito_genes = adata.var_names.str.startswith('MT-')\n",
    "# for each cell compute fraction of counts in mito genes vs. all genes\n",
    "# the `.A1` is only necessary as X is sparse (to transform to a dense array after summing)\n",
    "adata.obs['percent_mt2'] = np.sum(\n",
    "    adata[:, mito_genes].X, axis=1).A1 / np.sum(adata.X, axis=1).A1\n",
    "# add the total counts per cell as observations-annotation to adata\n",
    "adata.obs['n_counts'] = adata.X.sum(axis=1).A1\n",
    "\n",
    "adata"
   ]
  },
  {
   "cell_type": "markdown",
   "metadata": {},
   "source": [
    "## Plot QC\n",
    "\n",
    "Now we can plot some of the QC variables as violin plots."
   ]
  },
  {
   "cell_type": "code",
   "execution_count": null,
   "metadata": {},
   "outputs": [],
   "source": [
    "sc.pl.violin(adata, ['n_genes_by_counts', 'total_counts', 'pct_counts_mt', 'pct_counts_ribo', 'pct_counts_hb'], jitter=0.4, groupby = 'sample', rotation= 45)"
   ]
  },
  {
   "cell_type": "markdown",
   "metadata": {},
   "source": [
    "As you can see, there is quite some difference in quality for these\n",
    "samples, with for instance the covid_15 and covid_16 samples having\n",
    "cells with fewer detected genes and more mitochondrial content. As the\n",
    "ribosomal proteins are highly expressed they will make up a larger\n",
    "proportion of the transcriptional landscape when fewer of the lowly\n",
    "expressed genes are detected. We can also plot the different QC-measures\n",
    "as scatter plots."
   ]
  },
  {
   "cell_type": "code",
   "execution_count": null,
   "metadata": {
    "fig-height": 5,
    "fig-width": 5
   },
   "outputs": [],
   "source": [
    "sc.pl.scatter(adata, x='total_counts', y='pct_counts_mt', color=\"sample\")"
   ]
  },
  {
   "cell_type": "markdown",
   "metadata": {},
   "source": [
    "<div>\n",
    "\n",
    "> **Discuss**\n",
    ">\n",
    "> Plot additional QC stats that we have calculated as scatter plots. How\n",
    "> are the different measures correlated? Can you explain why?\n",
    "\n",
    "</div>\n",
    "\n",
    "## Filtering\n",
    "\n",
    "### Detection-based filtering\n",
    "\n",
    "A standard approach is to filter cells with low number of reads as well\n",
    "as genes that are present in at least a given number of cells. Here we\n",
    "will only consider cells with at least 200 detected genes and genes need\n",
    "to be expressed in at least 3 cells. Please note that those values are\n",
    "highly dependent on the library preparation method used."
   ]
  },
  {
   "cell_type": "code",
   "execution_count": null,
   "metadata": {},
   "outputs": [],
   "source": [
    "sc.pp.filter_cells(adata, min_genes=200)\n",
    "sc.pp.filter_genes(adata, min_cells=3)\n",
    "\n",
    "print(adata.n_obs, adata.n_vars)"
   ]
  },
  {
   "cell_type": "markdown",
   "metadata": {},
   "source": [
    "Extremely high number of detected genes could indicate doublets.\n",
    "However, depending on the cell type composition in your sample, you may\n",
    "have cells with higher number of genes (and also higher counts) from one\n",
    "cell type. In this case, we will run doublet prediction further down, so\n",
    "we will skip this step now, but the code below is an example of how it\n",
    "can be run:"
   ]
  },
  {
   "cell_type": "code",
   "execution_count": null,
   "metadata": {},
   "outputs": [],
   "source": [
    "# skip for now as we are doing doublet prediction\n",
    "#keep_v2 = (adata.obs['n_genes_by_counts'] < 2000) & (adata.obs['n_genes_by_counts'] > 500) & (adata.obs['lib_prep'] == 'v2')\n",
    "#print(sum(keep_v2))\n",
    "\n",
    "# filter for gene detection for v3\n",
    "#keep_v3 = (adata.obs['n_genes_by_counts'] < 4100) & (adata.obs['n_genes_by_counts'] > 1000) & (adata.obs['lib_prep'] != 'v2')\n",
    "#print(sum(keep_v3))\n",
    "\n",
    "# keep both sets of cells\n",
    "#keep = (keep_v2) | (keep_v3)\n",
    "#print(sum(keep))\n",
    "#adata = adata[keep, :]\n",
    "\n",
    "#print(\"Remaining cells %d\"%adata.n_obs)"
   ]
  },
  {
   "cell_type": "markdown",
   "metadata": {},
   "source": [
    "Additionally, we can also see which genes contribute the most to such\n",
    "reads. We can for instance plot the percentage of counts per gene."
   ]
  },
  {
   "cell_type": "code",
   "execution_count": null,
   "metadata": {
    "fig-height": 6,
    "fig-width": 6
   },
   "outputs": [],
   "source": [
    "sc.pl.highest_expr_genes(adata, n_top=20)"
   ]
  },
  {
   "cell_type": "markdown",
   "metadata": {},
   "source": [
    "As you can see, MALAT1 constitutes up to 30% of the UMIs from a single\n",
    "cell and the other top genes are mitochondrial and ribosomal genes. It\n",
    "is quite common that nuclear lincRNAs have correlation with quality and\n",
    "mitochondrial reads, so high detection of MALAT1 may be a technical\n",
    "issue. Let us assemble some information about such genes, which are\n",
    "important for quality control and downstream filtering.\n",
    "\n",
    "### Mito/Ribo filtering\n",
    "\n",
    "We also have quite a lot of cells with high proportion of mitochondrial\n",
    "and low proportion of ribosomal reads. It would be wise to remove those\n",
    "cells, if we have enough cells left after filtering. Another option\n",
    "would be to either remove all mitochondrial reads from the dataset and\n",
    "hope that the remaining genes still have enough biological signal. A\n",
    "third option would be to just regress out the `percent_mito` variable\n",
    "during scaling. In this case we had as much as 99.7% mitochondrial reads\n",
    "in some of the cells, so it is quite unlikely that there is much cell\n",
    "type signature left in those. Looking at the plots, make reasonable\n",
    "decisions on where to draw the cutoff. In this case, the bulk of the\n",
    "cells are below 20% mitochondrial reads and that will be used as a\n",
    "cutoff. We will also remove cells with less than 5% ribosomal reads."
   ]
  },
  {
   "cell_type": "code",
   "execution_count": null,
   "metadata": {},
   "outputs": [],
   "source": [
    "# filter for percent mito\n",
    "adata = adata[adata.obs['pct_counts_mt'] < 20, :]\n",
    "\n",
    "# filter for percent ribo > 0.05\n",
    "adata = adata[adata.obs['pct_counts_ribo'] > 5, :]\n",
    "\n",
    "print(\"Remaining cells %d\"%adata.n_obs)"
   ]
  },
  {
   "cell_type": "markdown",
   "metadata": {},
   "source": [
    "As you can see, a large proportion of sample covid_15 is filtered out.\n",
    "Also, there is still quite a lot of variation in `percent_mito`, so it\n",
    "will have to be dealt with in the data analysis step. We can also notice\n",
    "that the `percent_ribo` are also highly variable, but that is expected\n",
    "since different cell types have different proportions of ribosomal\n",
    "content, according to their function.\n",
    "\n",
    "### Plot filtered QC\n",
    "\n",
    "Lets plot the same QC-stats once more."
   ]
  },
  {
   "cell_type": "code",
   "execution_count": null,
   "metadata": {},
   "outputs": [],
   "source": [
    "sc.pl.violin(adata, ['n_genes_by_counts', 'total_counts', 'pct_counts_mt','pct_counts_ribo', 'pct_counts_hb'], jitter=0.4, groupby = 'sample', rotation = 45)"
   ]
  },
  {
   "cell_type": "markdown",
   "metadata": {},
   "source": [
    "### Filter genes\n",
    "\n",
    "As the level of expression of mitochondrial and MALAT1 genes are judged\n",
    "as mainly technical, it can be wise to remove them from the dataset\n",
    "before any further analysis. In this case we will also remove the HB\n",
    "genes."
   ]
  },
  {
   "cell_type": "code",
   "execution_count": null,
   "metadata": {},
   "outputs": [],
   "source": [
    "malat1 = adata.var_names.str.startswith('MALAT1')\n",
    "# we need to redefine the mito_genes since they were first \n",
    "# calculated on the full object before removing low expressed genes.\n",
    "mito_genes = adata.var_names.str.startswith('MT-')\n",
    "hb_genes = adata.var_names.str.contains('^HB[^(P|E|S)]')\n",
    "\n",
    "remove = np.add(mito_genes, malat1)\n",
    "remove = np.add(remove, hb_genes)\n",
    "keep = np.invert(remove)\n",
    "\n",
    "adata = adata[:,keep]\n",
    "\n",
    "print(adata.n_obs, adata.n_vars)"
   ]
  },
  {
   "cell_type": "markdown",
   "metadata": {},
   "source": [
    "## Sample sex\n",
    "\n",
    "When working with human or animal samples, you should ideally constrain\n",
    "your experiments to a single sex to avoid including sex bias in the\n",
    "conclusions. However this may not always be possible. By looking at\n",
    "reads from chromosomeY (males) and XIST (X-inactive specific transcript)\n",
    "expression (mainly female) it is quite easy to determine per sample\n",
    "which sex it is. It can also be a good way to detect if there has been\n",
    "any mislabelling in which case, the sample metadata sex does not agree\n",
    "with the computational predictions.\n",
    "\n",
    "To get choromosome information for all genes, you should ideally parse\n",
    "the information from the gtf file that you used in the mapping pipeline\n",
    "as it has the exact same annotation version/gene naming. However, it may\n",
    "not always be available, as in this case where we have downloaded public\n",
    "data. Hence, we will use biomart to fetch chromosome information."
   ]
  },
  {
   "cell_type": "code",
   "execution_count": null,
   "metadata": {},
   "outputs": [],
   "source": [
    "# requires pybiomart\n",
    "if not fetch_annotation:\n",
    "    annot = sc.queries.biomart_annotations(\"hsapiens\", [\"ensembl_gene_id\", \"external_gene_name\", \"start_position\", \"end_position\", \"chromosome_name\"], ).set_index(\"external_gene_name\")\n",
    "    # adata.var[annot.columns] = annot"
   ]
  },
  {
   "cell_type": "markdown",
   "metadata": {},
   "source": [
    "Now that we have the chromosome information, we can calculate the\n",
    "proportion of reads that comes from chromosome Y per cell."
   ]
  },
  {
   "cell_type": "code",
   "execution_count": null,
   "metadata": {},
   "outputs": [],
   "source": [
    "chrY_genes = adata.var_names.intersection(annot.index[annot.chromosome_name == \"Y\"])\n",
    "chrY_genes\n",
    "\n",
    "adata.obs['percent_chrY'] = np.sum(\n",
    "    adata[:, chrY_genes].X, axis=1).A1 / np.sum(adata.X, axis=1).A1 * 100"
   ]
  },
  {
   "cell_type": "markdown",
   "metadata": {},
   "source": [
    "Then plot XIST expression vs chrY proportion. As you can see, the\n",
    "samples are clearly on either side, even if some cells do not have\n",
    "detection of either."
   ]
  },
  {
   "cell_type": "code",
   "execution_count": null,
   "metadata": {
    "fig-height": 5,
    "fig-width": 5
   },
   "outputs": [],
   "source": [
    "# color inputs must be from either .obs or .var, so add in XIST expression to obs.\n",
    "adata.obs[\"XIST-counts\"] = adata.X[:,adata.var_names.str.match('XIST')].toarray()\n",
    "\n",
    "sc.pl.scatter(adata, x='XIST-counts', y='percent_chrY', color=\"sample\")"
   ]
  },
  {
   "cell_type": "markdown",
   "metadata": {},
   "source": [
    "Plot as violins."
   ]
  },
  {
   "cell_type": "code",
   "execution_count": null,
   "metadata": {
    "fig-height": 5,
    "fig-width": 10
   },
   "outputs": [],
   "source": [
    "sc.pl.violin(adata, [\"XIST-counts\", \"percent_chrY\"], jitter=0.4, groupby = 'sample', rotation= 45)"
   ]
  },
  {
   "cell_type": "markdown",
   "metadata": {},
   "source": [
    "Here, we can see clearly that we have three males and five females, can\n",
    "you see which samples they are? Do you think this will cause any\n",
    "problems for downstream analysis? Discuss with your group: what would be\n",
    "the best way to deal with this type of sex bias?\n",
    "\n",
    "## Cell cycle state\n",
    "\n",
    "We here perform cell cycle scoring. To score a gene list, the algorithm\n",
    "calculates the difference of mean expression of the given list and the\n",
    "mean expression of reference genes. To build the reference, the function\n",
    "randomly chooses a bunch of genes matching the distribution of the\n",
    "expression of the given list. Cell cycle scoring adds three slots in the\n",
    "metadata, a score for S phase, a score for G2M phase and the predicted\n",
    "cell cycle phase.\n",
    "\n",
    "First read the file with cell cycle genes, from Regev lab and split into\n",
    "S and G2M phase genes. We first download the file."
   ]
  },
  {
   "cell_type": "code",
   "execution_count": null,
   "metadata": {},
   "outputs": [],
   "source": [
    "path_file = os.path.join(path_results, 'regev_lab_cell_cycle_genes.txt')\n",
    "if not os.path.exists(path_file):\n",
    "    urllib.request.urlretrieve(os.path.join(path_data, 'regev_lab_cell_cycle_genes.txt'), path_file)"
   ]
  },
  {
   "cell_type": "code",
   "execution_count": null,
   "metadata": {},
   "outputs": [],
   "source": [
    "cell_cycle_genes = [x.strip() for x in open('./data/covid/results/regev_lab_cell_cycle_genes.txt')]\n",
    "print(len(cell_cycle_genes))\n",
    "\n",
    "# Split into 2 lists\n",
    "s_genes = cell_cycle_genes[:43]\n",
    "g2m_genes = cell_cycle_genes[43:]\n",
    "\n",
    "cell_cycle_genes = [x for x in cell_cycle_genes if x in adata.var_names]\n",
    "print(len(cell_cycle_genes))"
   ]
  },
  {
   "cell_type": "markdown",
   "metadata": {},
   "source": [
    "Before running cell cycle we have to normalize the data. In the scanpy\n",
    "object, the data slot will be overwritten with the normalized data. So\n",
    "first, save the raw data into the slot `raw`. Then run normalization,\n",
    "log transformation and scale the data."
   ]
  },
  {
   "cell_type": "code",
   "execution_count": null,
   "metadata": {},
   "outputs": [],
   "source": [
    "# save normalized counts in raw slot.\n",
    "adata.raw = adata\n",
    "\n",
    "# normalize to depth 10 000\n",
    "sc.pp.normalize_per_cell(adata, counts_per_cell_after=1e4)\n",
    "\n",
    "# logaritmize\n",
    "sc.pp.log1p(adata)\n",
    "\n",
    "# scale\n",
    "sc.pp.scale(adata)"
   ]
  },
  {
   "cell_type": "markdown",
   "metadata": {},
   "source": [
    "We here perform cell cycle scoring. The function is actually a wrapper\n",
    "to sc.tl.score_gene_list, which is launched twice, to score separately S\n",
    "and G2M phases. Both sc.tl.score_gene_list and\n",
    "sc.tl.score_cell_cycle_genes are a port from Seurat and are supposed to\n",
    "work in a very similar way. To score a gene list, the algorithm\n",
    "calculates the difference of mean expression of the given list and the\n",
    "mean expression of reference genes. To build the reference, the function\n",
    "randomly chooses a bunch of genes matching the distribution of the\n",
    "expression of the given list. Cell cycle scoring adds three slots in\n",
    "data, a score for S phase, a score for G2M phase and the predicted cell\n",
    "cycle phase."
   ]
  },
  {
   "cell_type": "code",
   "execution_count": null,
   "metadata": {},
   "outputs": [],
   "source": [
    "sc.tl.score_genes_cell_cycle(adata, s_genes=s_genes, g2m_genes=g2m_genes)"
   ]
  },
  {
   "cell_type": "markdown",
   "metadata": {},
   "source": [
    "We can now create a violin plot for the cell cycle scores as well."
   ]
  },
  {
   "cell_type": "code",
   "execution_count": null,
   "metadata": {
    "fig-height": 5,
    "fig-width": 10
   },
   "outputs": [],
   "source": [
    "sc.pl.violin(adata, ['S_score', 'G2M_score'], jitter=0.4, groupby = 'sample', rotation=45)"
   ]
  },
  {
   "cell_type": "markdown",
   "metadata": {},
   "source": [
    "In this case it looks like we only have a few cycling cells in these\n",
    "datasets.\n",
    "\n",
    "Scanpy does an automatic prediction of cell cycle phase with a default\n",
    "cutoff of the scores at zero. As you can see this does not fit this data\n",
    "very well, so be cautios with using these predictions. Instead we\n",
    "suggest that you look at the scores."
   ]
  },
  {
   "cell_type": "code",
   "execution_count": null,
   "metadata": {
    "fig-height": 8,
    "fig-width": 10
   },
   "outputs": [],
   "source": [
    "sc.pl.scatter(adata, x='S_score', y='G2M_score', color=\"phase\")"
   ]
  },
  {
   "cell_type": "markdown",
   "metadata": {},
   "source": [
    "## Predict doublets\n",
    "\n",
    "Doublets/Multiples of cells in the same well/droplet is a common issue\n",
    "in scRNAseq protocols. Especially in droplet-based methods with\n",
    "overloading of cells. In a typical 10x experiment the proportion of\n",
    "doublets is linearly dependent on the amount of loaded cells. As\n",
    "indicated from the Chromium user guide, doublet rates are about as\n",
    "follows:\\\n",
    "![](../figs/10x_doublet_rate.png)\\\n",
    "Most doublet detectors simulates doublets by merging cell counts and\n",
    "predicts doublets as cells that have similar embeddings as the simulated\n",
    "doublets. Most such packages need an assumption about the\n",
    "number/proportion of expected doublets in the dataset. The data you are\n",
    "using is subsampled, but the original datasets contained about 5 000\n",
    "cells per sample, hence we can assume that they loaded about 9 000 cells\n",
    "and should have a doublet rate at about 4%.\n",
    "\n",
    "For doublet detection, we will use the package `Scrublet`, so first we\n",
    "need to get the raw counts from `adata.raw.X` and run scrublet with that\n",
    "matrix. Then we add in the doublet prediction info into our anndata\n",
    "object.\n",
    "\n",
    "Doublet prediction should be run for each dataset separately, so first\n",
    "we need to split the adata object into 6 separate objects, one per\n",
    "sample and then run scrublet on each of them."
   ]
  },
  {
   "cell_type": "code",
   "execution_count": null,
   "metadata": {},
   "outputs": [],
   "source": [
    "import scrublet as scr\n",
    "\n",
    "# split per batch into new objects.\n",
    "batches = adata.obs['sample'].cat.categories.tolist()\n",
    "alldata = {}\n",
    "for batch in batches:\n",
    "    tmp = adata[adata.obs['sample'] == batch,]\n",
    "    print(batch, \":\", tmp.shape[0], \" cells\")\n",
    "    scrub = scr.Scrublet(tmp.raw.X)\n",
    "    out = scrub.scrub_doublets(verbose=False, n_prin_comps = 20)\n",
    "    alldata[batch] = pd.DataFrame({'doublet_score':out[0],'predicted_doublets':out[1]},index = tmp.obs.index)\n",
    "    print(alldata[batch].predicted_doublets.sum(), \" predicted_doublets\")"
   ]
  },
  {
   "cell_type": "code",
   "execution_count": null,
   "metadata": {},
   "outputs": [],
   "source": [
    "# add predictions to the adata object.\n",
    "scrub_pred = pd.concat(alldata.values())\n",
    "adata.obs['doublet_scores'] = scrub_pred['doublet_score'] \n",
    "adata.obs['predicted_doublets'] = scrub_pred['predicted_doublets'] \n",
    "\n",
    "sum(adata.obs['predicted_doublets'])"
   ]
  },
  {
   "cell_type": "markdown",
   "metadata": {},
   "source": [
    "We should expect that two cells have more detected genes than a single\n",
    "cell, lets check if our predicted doublets also have more detected genes\n",
    "in general."
   ]
  },
  {
   "cell_type": "code",
   "execution_count": null,
   "metadata": {
    "fig-height": 5,
    "fig-width": 5
   },
   "outputs": [],
   "source": [
    "# add in column with singlet/doublet instead of True/Fals\n",
    "%matplotlib inline\n",
    "\n",
    "adata.obs['doublet_info'] = adata.obs[\"predicted_doublets\"].astype(str)\n",
    "sc.pl.violin(adata, 'n_genes_by_counts', jitter=0.4, groupby = 'doublet_info', rotation=45)"
   ]
  },
  {
   "cell_type": "markdown",
   "metadata": {},
   "source": [
    "Now, lets run PCA and UMAP and plot doublet scores onto UMAP to check\n",
    "the doublet predictions."
   ]
  },
  {
   "cell_type": "code",
   "execution_count": null,
   "metadata": {
    "fig-height": 4,
    "fig-width": 12
   },
   "outputs": [],
   "source": [
    "sc.pp.highly_variable_genes(adata, min_mean=0.0125, max_mean=3, min_disp=0.5)\n",
    "adata = adata[:, adata.var.highly_variable]\n",
    "sc.pp.regress_out(adata, ['total_counts', 'pct_counts_mt'])\n",
    "sc.pp.scale(adata, max_value=10)\n",
    "sc.tl.pca(adata, svd_solver='arpack')\n",
    "sc.pp.neighbors(adata, n_neighbors=10, n_pcs=40)\n",
    "sc.tl.umap(adata)\n",
    "sc.pl.umap(adata, color=['doublet_scores','doublet_info','sample'])"
   ]
  },
  {
   "cell_type": "markdown",
   "metadata": {},
   "source": [
    "Now, lets remove all predicted doublets from our data."
   ]
  },
  {
   "cell_type": "code",
   "execution_count": null,
   "metadata": {},
   "outputs": [],
   "source": [
    "# also revert back to the raw counts as the main matrix in adata\n",
    "adata = adata.raw.to_adata() \n",
    "\n",
    "adata = adata[adata.obs['doublet_info'] == 'False',:]\n",
    "print(adata.shape)"
   ]
  },
  {
   "cell_type": "markdown",
   "metadata": {},
   "source": [
    "## Save data\n",
    "\n",
    "Finally, lets save the QC-filtered data for further analysis. Create\n",
    "output directory `data/covid/results` and save data to that folder. This\n",
    "will be used in downstream labs."
   ]
  },
  {
   "cell_type": "code",
   "execution_count": null,
   "metadata": {},
   "outputs": [],
   "source": [
    "adata.write_h5ad('data/covid/results/scanpy_covid_qc.h5ad')"
   ]
  },
  {
   "cell_type": "markdown",
   "metadata": {},
   "source": [
    "## Session info\n",
    "\n",
    "```{=html}\n",
    "<details>\n",
    "```\n",
    "```{=html}\n",
    "<summary>\n",
    "```\n",
    "Click here\n",
    "```{=html}\n",
    "</summary>\n",
    "```"
   ]
  },
  {
   "cell_type": "code",
   "execution_count": null,
   "metadata": {},
   "outputs": [],
   "source": [
    "sc.logging.print_versions()"
   ]
  },
  {
   "cell_type": "markdown",
   "metadata": {},
   "source": [
    "```{=html}\n",
    "</details>\n",
    "```"
   ]
  }
 ],
 "metadata": {
  "kernelspec": {
   "display_name": "Python 3",
   "language": "python",
   "name": "python3"
  }
 },
 "nbformat": 4,
 "nbformat_minor": 4
}
